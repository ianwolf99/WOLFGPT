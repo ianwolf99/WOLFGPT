{
  "cells": [
    {
      "cell_type": "markdown",
      "metadata": {
        "id": "view-in-github",
        "colab_type": "text"
      },
      "source": [
        "<a href=\"https://colab.research.google.com/github/ianwolf99/WOLFGPT/blob/main/templates/aistudio_gemini_prompt_chat_b64.ipynb\" target=\"_parent\"><img src=\"https://colab.research.google.com/assets/colab-badge.svg\" alt=\"Open In Colab\"/></a>"
      ]
    },
    {
      "cell_type": "markdown",
      "metadata": {
        "id": "Tce3stUlHN0L"
      },
      "source": [
        "##### Copyright 2023 Google LLC"
      ]
    },
    {
      "cell_type": "code",
      "execution_count": null,
      "metadata": {
        "cellView": "form",
        "id": "tuOe1ymfHZPu"
      },
      "outputs": [],
      "source": [
        "#@title Licensed under the Apache License, Version 2.0 (the \"License\");\n",
        "# you may not use this file except in compliance with the License.\n",
        "# You may obtain a copy of the License at\n",
        "#\n",
        "# https://www.apache.org/licenses/LICENSE-2.0\n",
        "#\n",
        "# Unless required by applicable law or agreed to in writing, software\n",
        "# distributed under the License is distributed on an \"AS IS\" BASIS,\n",
        "# WITHOUT WARRANTIES OR CONDITIONS OF ANY KIND, either express or implied.\n",
        "# See the License for the specific language governing permissions and\n",
        "# limitations under the License."
      ]
    },
    {
      "cell_type": "markdown",
      "metadata": {
        "id": "FKwyTRdwB8aW"
      },
      "source": [
        "## Setup"
      ]
    },
    {
      "cell_type": "markdown",
      "metadata": {
        "id": "rlE8UqxrDIez"
      },
      "source": [
        "### Install & import\n"
      ]
    },
    {
      "cell_type": "code",
      "execution_count": null,
      "metadata": {
        "id": "cZiU4TKzznh9",
        "outputId": "b7feb463-338f-435f-e14a-a760e6e379a3"
      },
      "outputs": [
        {
          "name": "stdout",
          "output_type": "stream",
          "text": [
            "\u001b[33mWARNING: There was an error checking the latest version of pip.\u001b[0m\u001b[33m\n",
            "\u001b[0m"
          ]
        }
      ],
      "source": [
        "!pip install -U -q google-generativeai"
      ]
    },
    {
      "cell_type": "code",
      "execution_count": null,
      "metadata": {
        "id": "kWIuwKG2_oWE"
      },
      "outputs": [],
      "source": [
        "# import necessary modules.\n",
        "import google.generativeai as genai\n",
        "import json\n",
        "import base64\n",
        "import pathlib\n",
        "import pprint\n",
        "import requests\n",
        "import mimetypes\n",
        "from IPython.display import Markdown"
      ]
    },
    {
      "cell_type": "markdown",
      "metadata": {
        "id": "Fet3lFjdKHEM"
      },
      "source": [
        "## Set the API key"
      ]
    },
    {
      "cell_type": "markdown",
      "metadata": {
        "id": "ZoRWILAtCzBE"
      },
      "source": [
        "Add your API_KEY to the secrets manager in the left pannel \"🔑\"."
      ]
    },
    {
      "cell_type": "code",
      "execution_count": null,
      "metadata": {
        "id": "LaLCwNlkCyQd"
      },
      "outputs": [],
      "source": [
        "from google.colab import userdata\n",
        "\n",
        "API_KEY=userdata.get('API_KEY')"
      ]
    },
    {
      "cell_type": "code",
      "execution_count": null,
      "metadata": {
        "id": "_SvYoR3WCeKr"
      },
      "outputs": [],
      "source": [
        "# Configure the client library by providing your API key.\n",
        "genai.configure(api_key=API_KEY)"
      ]
    },
    {
      "cell_type": "markdown",
      "metadata": {
        "id": "weo-o73WDpdm"
      },
      "source": [
        "### Parse the arguments"
      ]
    },
    {
      "cell_type": "code",
      "execution_count": null,
      "metadata": {
        "id": "uIog-0SyDuIF"
      },
      "outputs": [],
      "source": [
        "model = 'gemini-1.0-pro' # @param {isTemplate: true}\n",
        "contents_b64 = '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' # @param {isTemplate: true}\n",
        "generation_config_b64 = 'eyJ0ZW1wZXJhdHVyZSI6MC45LCJ0b3BfcCI6MSwidG9wX2siOjEsIm1heF9vdXRwdXRfdG9rZW5zIjoyMDQ4LCJzdG9wX3NlcXVlbmNlcyI6W119' # @param {isTemplate: true}\n",
        "safety_settings_b64 = 'W3siY2F0ZWdvcnkiOiJIQVJNX0NBVEVHT1JZX0hBUkFTU01FTlQiLCJ0aHJlc2hvbGQiOiJCTE9DS19NRURJVU1fQU5EX0FCT1ZFIn0seyJjYXRlZ29yeSI6IkhBUk1fQ0FURUdPUllfSEFURV9TUEVFQ0giLCJ0aHJlc2hvbGQiOiJCTE9DS19NRURJVU1fQU5EX0FCT1ZFIn0seyJjYXRlZ29yeSI6IkhBUk1fQ0FURUdPUllfU0VYVUFMTFlfRVhQTElDSVQiLCJ0aHJlc2hvbGQiOiJCTE9DS19NRURJVU1fQU5EX0FCT1ZFIn0seyJjYXRlZ29yeSI6IkhBUk1fQ0FURUdPUllfREFOR0VST1VTX0NPTlRFTlQiLCJ0aHJlc2hvbGQiOiJCTE9DS19NRURJVU1fQU5EX0FCT1ZFIn1d' # @param {isTemplate: true}\n",
        "user_input_b64 = '' # @param {isTemplate: true}\n",
        "\n",
        "contents = json.loads(base64.b64decode(contents_b64))\n",
        "generation_config = json.loads(base64.b64decode(generation_config_b64))\n",
        "safety_settings = json.loads(base64.b64decode(safety_settings_b64))\n",
        "user_input = base64.b64decode(user_input_b64).decode()\n",
        "stream = False"
      ]
    },
    {
      "cell_type": "code",
      "execution_count": null,
      "metadata": {
        "id": "wBS8xNhN0x62",
        "outputId": "bef4334a-48a3-4ca6-9d8c-f30928417f4c"
      },
      "outputs": [
        {
          "data": {
            "text/plain": [
              "[{'role': 'user', 'parts': [{'text': 'hello'}]},\n",
              " {'role': 'model', 'parts': [{'text': 'Hello! How can I assist you today?'}]}]"
            ]
          },
          "execution_count": 7,
          "metadata": {},
          "output_type": "execute_result"
        }
      ],
      "source": [
        "contents"
      ]
    },
    {
      "cell_type": "code",
      "execution_count": null,
      "metadata": {
        "id": "1681593ef561",
        "outputId": "0770a68a-ce29-44c2-8b01-8e2cd1708c15"
      },
      "outputs": [
        {
          "data": {
            "text/plain": [
              "{}"
            ]
          },
          "execution_count": 8,
          "metadata": {},
          "output_type": "execute_result"
        }
      ],
      "source": [
        "generation_config"
      ]
    },
    {
      "cell_type": "code",
      "execution_count": null,
      "metadata": {
        "id": "a2c31f8f1894",
        "outputId": "0e901caf-cb1a-4853-9c20-64774eb5f082"
      },
      "outputs": [
        {
          "data": {
            "text/plain": [
              "{}"
            ]
          },
          "execution_count": 9,
          "metadata": {},
          "output_type": "execute_result"
        }
      ],
      "source": [
        "safety_settings"
      ]
    },
    {
      "cell_type": "code",
      "execution_count": null,
      "metadata": {
        "id": "4d17bac9fefc",
        "outputId": "b45589d4-df16-477d-899f-3af80000a5bc"
      },
      "outputs": [
        {
          "data": {
            "text/plain": [
              "'How does electricity work?'"
            ]
          },
          "execution_count": 10,
          "metadata": {},
          "output_type": "execute_result"
        }
      ],
      "source": [
        "user_input"
      ]
    },
    {
      "cell_type": "markdown",
      "metadata": {
        "id": "E7zAD69vE92b"
      },
      "source": [
        "### Call the API"
      ]
    },
    {
      "cell_type": "code",
      "execution_count": null,
      "metadata": {
        "id": "LB2LxPmAB95V"
      },
      "outputs": [],
      "source": [
        "# Call the model and print the response.\n",
        "gemini = genai.GenerativeModel(model_name=model)\n",
        "\n",
        "chat = gemini.start_chat(history=contents)\n",
        "\n",
        "response = chat.send_message(\n",
        "    user_input,\n",
        "    stream=stream)"
      ]
    },
    {
      "cell_type": "code",
      "execution_count": null,
      "metadata": {
        "id": "Lm3RXwYuGtZK",
        "outputId": "040ac117-0d5b-4802-aa03-23db1a51f2f2"
      },
      "outputs": [
        {
          "data": {
            "text/markdown": [
              "Electricity is the flow of electric charge. It is a fundamental part of nature and is responsible for a wide range of phenomena, from lightning and static electricity to the operation of electronic devices.\n",
              "\n",
              "**Basic Principles of Electricity:**\n",
              "\n",
              "1. **Electric Charge:** Matter is made up of atoms, which have a positively charged nucleus surrounded by negatively charged electrons. The movement of these charged particles creates electric currents.\n",
              "\n",
              "2. **Electric Field:** Electric charges create an electric field around them. The strength and direction of this field depend on the amount and type of charge.\n",
              "\n",
              "3. **Electric Potential:** Electric potential is the amount of electrical energy stored in a region of space. It is measured in volts (V).\n",
              "\n",
              "4. **Electric Current:** Electric current is the flow of electric charge through a conductor. It is measured in amperes (A).\n",
              "\n",
              "**How Electricity Works:**\n",
              "\n",
              "1. **Generation of Electricity:** Electricity can be generated in various ways, including:\n",
              "   - **Mechanical Energy:** Generators convert mechanical energy into electrical energy by spinning a conductor in a magnetic field. This is the principle behind power plants that use turbines driven by steam, water, or wind.\n",
              "   - **Chemical Energy:** Batteries generate electricity through chemical reactions.\n",
              "   - **Solar Energy:** Solar cells convert sunlight directly into electricity using the photovoltaic effect.\n",
              "\n",
              "2. **Transmission of Electricity:** Electricity is transmitted over long distances through power lines. These lines are made of conductive materials, such as copper or aluminum, which allow electrons to flow easily.\n",
              "\n",
              "3. **Distribution of Electricity:** Once electricity reaches populated areas, it is distributed to homes, businesses, and other consumers through a network of local power lines and transformers.\n",
              "\n",
              "4. **Utilization of Electricity:** Electricity is used to power various devices and appliances by converting electrical energy into other forms of energy, such as light, heat, or motion.\n",
              "\n",
              "The flow of electricity in a circuit is driven by the difference in electric potential between two points. When a complete circuit is formed, electrons can flow from a region of higher potential to a region of lower potential, creating an electric current.\n",
              "\n",
              "Electricity is a versatile form of energy that has revolutionized modern society. It is used in a wide range of applications, from lighting and heating to powering computers and transportation systems."
            ],
            "text/plain": [
              "<IPython.core.display.Markdown object>"
            ]
          },
          "metadata": {},
          "output_type": "display_data"
        }
      ],
      "source": [
        "display(Markdown(response.text))"
      ]
    },
    {
      "cell_type": "code",
      "execution_count": null,
      "metadata": {
        "id": "JbKuUc3NGxYD",
        "outputId": "be63ca80-2ab6-48d4-e9ea-5dd66155ad5e"
      },
      "outputs": [
        {
          "data": {
            "text/plain": [
              "safety_ratings {\n",
              "  category: HARM_CATEGORY_SEXUALLY_EXPLICIT\n",
              "  probability: NEGLIGIBLE\n",
              "}\n",
              "safety_ratings {\n",
              "  category: HARM_CATEGORY_HATE_SPEECH\n",
              "  probability: NEGLIGIBLE\n",
              "}\n",
              "safety_ratings {\n",
              "  category: HARM_CATEGORY_HARASSMENT\n",
              "  probability: NEGLIGIBLE\n",
              "}\n",
              "safety_ratings {\n",
              "  category: HARM_CATEGORY_DANGEROUS_CONTENT\n",
              "  probability: NEGLIGIBLE\n",
              "}"
            ]
          },
          "execution_count": 13,
          "metadata": {},
          "output_type": "execute_result"
        }
      ],
      "source": [
        "response.prompt_feedback"
      ]
    },
    {
      "cell_type": "code",
      "execution_count": null,
      "metadata": {
        "id": "SLAaIq3kgwwJ",
        "outputId": "67584403-e981-4dd8-e4c5-8cd0ef992cbc"
      },
      "outputs": [
        {
          "data": {
            "text/plain": [
              "[index: 0\n",
              "content {\n",
              "  parts {\n",
              "    text: \"Electricity is the flow of electric charge. It is a fundamental part of nature and is responsible for a wide range of phenomena, from lightning and static electricity to the operation of electronic devices.\\n\\n**Basic Principles of Electricity:**\\n\\n1. **Electric Charge:** Matter is made up of atoms, which have a positively charged nucleus surrounded by negatively charged electrons. The movement of these charged particles creates electric currents.\\n\\n2. **Electric Field:** Electric charges create an electric field around them. The strength and direction of this field depend on the amount and type of charge.\\n\\n3. **Electric Potential:** Electric potential is the amount of electrical energy stored in a region of space. It is measured in volts (V).\\n\\n4. **Electric Current:** Electric current is the flow of electric charge through a conductor. It is measured in amperes (A).\\n\\n**How Electricity Works:**\\n\\n1. **Generation of Electricity:** Electricity can be generated in various ways, including:\\n   - **Mechanical Energy:** Generators convert mechanical energy into electrical energy by spinning a conductor in a magnetic field. This is the principle behind power plants that use turbines driven by steam, water, or wind.\\n   - **Chemical Energy:** Batteries generate electricity through chemical reactions.\\n   - **Solar Energy:** Solar cells convert sunlight directly into electricity using the photovoltaic effect.\\n\\n2. **Transmission of Electricity:** Electricity is transmitted over long distances through power lines. These lines are made of conductive materials, such as copper or aluminum, which allow electrons to flow easily.\\n\\n3. **Distribution of Electricity:** Once electricity reaches populated areas, it is distributed to homes, businesses, and other consumers through a network of local power lines and transformers.\\n\\n4. **Utilization of Electricity:** Electricity is used to power various devices and appliances by converting electrical energy into other forms of energy, such as light, heat, or motion.\\n\\nThe flow of electricity in a circuit is driven by the difference in electric potential between two points. When a complete circuit is formed, electrons can flow from a region of higher potential to a region of lower potential, creating an electric current.\\n\\nElectricity is a versatile form of energy that has revolutionized modern society. It is used in a wide range of applications, from lighting and heating to powering computers and transportation systems.\"\n",
              "  }\n",
              "  role: \"model\"\n",
              "}\n",
              "finish_reason: STOP\n",
              "safety_ratings {\n",
              "  category: HARM_CATEGORY_SEXUALLY_EXPLICIT\n",
              "  probability: NEGLIGIBLE\n",
              "}\n",
              "safety_ratings {\n",
              "  category: HARM_CATEGORY_HATE_SPEECH\n",
              "  probability: NEGLIGIBLE\n",
              "}\n",
              "safety_ratings {\n",
              "  category: HARM_CATEGORY_HARASSMENT\n",
              "  probability: NEGLIGIBLE\n",
              "}\n",
              "safety_ratings {\n",
              "  category: HARM_CATEGORY_DANGEROUS_CONTENT\n",
              "  probability: NEGLIGIBLE\n",
              "}\n",
              "]"
            ]
          },
          "execution_count": 14,
          "metadata": {},
          "output_type": "execute_result"
        }
      ],
      "source": [
        "response.candidates"
      ]
    }
  ],
  "metadata": {
    "colab": {
      "collapsed_sections": [
        "Tce3stUlHN0L"
      ],
      "name": "aistudio_gemini_prompt_chat_b64.ipynb",
      "toc_visible": true,
      "provenance": [],
      "include_colab_link": true
    },
    "kernelspec": {
      "display_name": "Python 3",
      "name": "python3"
    }
  },
  "nbformat": 4,
  "nbformat_minor": 0
}